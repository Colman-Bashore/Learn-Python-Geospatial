{
 "cells": [
  {
   "cell_type": "code",
   "execution_count": 1,
   "id": "ae9b6daf-8be1-44f9-bc99-6a4953328d7a",
   "metadata": {
    "tags": []
   },
   "outputs": [
    {
     "data": {
      "text/plain": [
       "16"
      ]
     },
     "execution_count": 1,
     "metadata": {},
     "output_type": "execute_result"
    }
   ],
   "source": [
    "3 + 4\n",
    "\n",
    "2 * 4\n",
    "\n",
    "2 ** 4\n"
   ]
  },
  {
   "cell_type": "code",
   "execution_count": 2,
   "id": "862f7a19-8a9a-4be4-931a-6f7038fb17c0",
   "metadata": {
    "tags": []
   },
   "outputs": [
    {
     "data": {
      "text/plain": [
       "4.0"
      ]
     },
     "execution_count": 2,
     "metadata": {},
     "output_type": "execute_result"
    }
   ],
   "source": [
    "import math\n",
    "math.sqrt(16)\n"
   ]
  },
  {
   "cell_type": "code",
   "execution_count": 3,
   "id": "901a19f3-69da-4140-87f8-5f45bd640e2f",
   "metadata": {
    "tags": []
   },
   "outputs": [
    {
     "name": "stdout",
     "output_type": "stream",
     "text": [
      "1\n"
     ]
    },
    {
     "data": {
      "text/plain": [
       "4"
      ]
     },
     "execution_count": 3,
     "metadata": {},
     "output_type": "execute_result"
    }
   ],
   "source": [
    "a = 1\n",
    "b = 4\n",
    "print(a)\n",
    "b"
   ]
  },
  {
   "cell_type": "code",
   "execution_count": 4,
   "id": "f7f43a25-91f7-483c-86d8-24d350d7269b",
   "metadata": {
    "tags": []
   },
   "outputs": [
    {
     "name": "stdout",
     "output_type": "stream",
     "text": [
      "<class 'int'>\n",
      "<class 'float'>\n"
     ]
    },
    {
     "data": {
      "text/plain": [
       "str"
      ]
     },
     "execution_count": 4,
     "metadata": {},
     "output_type": "execute_result"
    }
   ],
   "source": [
    "print(type(1))\n",
    "print(type(1.0))\n",
    "type('hello')"
   ]
  },
  {
   "cell_type": "code",
   "execution_count": 5,
   "id": "f0361df3-f54f-4662-ab2e-9692575902b4",
   "metadata": {
    "tags": []
   },
   "outputs": [
    {
     "name": "stdout",
     "output_type": "stream",
     "text": [
      "False\n",
      "False\n",
      "True\n"
     ]
    }
   ],
   "source": [
    "a = True\n",
    "b = False\n",
    "print(a is False)\n",
    "print(b is True)\n",
    "print(b is False)"
   ]
  },
  {
   "cell_type": "code",
   "execution_count": 6,
   "id": "d330e6f8-9c8d-4093-9053-1e29daeb13a8",
   "metadata": {
    "tags": []
   },
   "outputs": [
    {
     "name": "stdout",
     "output_type": "stream",
     "text": [
      "a\n"
     ]
    }
   ],
   "source": [
    "a = 3\n",
    "if a:\n",
    "    print('a')"
   ]
  },
  {
   "cell_type": "code",
   "execution_count": 7,
   "id": "5b62b36a-491b-4152-9ebf-d14111316a27",
   "metadata": {
    "tags": []
   },
   "outputs": [],
   "source": [
    "b = 0\n",
    "if b:\n",
    "    print ('b')"
   ]
  },
  {
   "cell_type": "code",
   "execution_count": 8,
   "id": "40b6f890-6680-4530-b2a8-68d1c34429f5",
   "metadata": {
    "tags": []
   },
   "outputs": [
    {
     "name": "stdout",
     "output_type": "stream",
     "text": [
      "hi\n",
      "hi2\n"
     ]
    }
   ],
   "source": [
    "# a new line \\n is a common escape character\n",
    "new_line_str = 'hi\\nhi2'\n",
    "print (new_line_str)"
   ]
  },
  {
   "cell_type": "code",
   "execution_count": 9,
   "id": "f2be121d-feb4-4fc3-9891-b4bbc7e06bc7",
   "metadata": {
    "tags": []
   },
   "outputs": [
    {
     "data": {
      "text/plain": [
       "(1, 2, 3)"
      ]
     },
     "execution_count": 9,
     "metadata": {},
     "output_type": "execute_result"
    }
   ],
   "source": [
    "# tuples are created using parentheses\n",
    "mytuple = (1, 2, 3)\n",
    "mytuple"
   ]
  },
  {
   "cell_type": "code",
   "execution_count": 10,
   "id": "123aa2a5-f6ad-4ca7-82e6-0d6d180fb02e",
   "metadata": {
    "tags": []
   },
   "outputs": [
    {
     "name": "stdout",
     "output_type": "stream",
     "text": [
      "3\n",
      "1\n"
     ]
    }
   ],
   "source": [
    "# lists are created using square brackets\n",
    "mylist = [1, 2, 3]\n",
    "mylist\n",
    "\n",
    "mylist.append(4)\n",
    "mylist\n",
    "\n",
    "# tuples are created using parentheses\n",
    "mytuple = (1, 2, 3)\n",
    "mytuple\n",
    "\n",
    "newtuple = (mytuple, 4)\n",
    "newtuple\n",
    "\n",
    "print (mylist[2])\n",
    "print (mytuple[0])"
   ]
  },
  {
   "cell_type": "markdown",
   "id": "838904f8-347e-4489-abea-52f1c36442ea",
   "metadata": {},
   "source": [
    "This is a markdown cell"
   ]
  },
  {
   "cell_type": "code",
   "execution_count": null,
   "id": "90b65937-5791-41c7-bfba-d3b6aa532325",
   "metadata": {},
   "outputs": [],
   "source": []
  }
 ],
 "metadata": {
  "kernelspec": {
   "display_name": "Python 3 (ipykernel)",
   "language": "python",
   "name": "python3"
  },
  "language_info": {
   "codemirror_mode": {
    "name": "ipython",
    "version": 3
   },
   "file_extension": ".py",
   "mimetype": "text/x-python",
   "name": "python",
   "nbconvert_exporter": "python",
   "pygments_lexer": "ipython3",
   "version": "3.9.18"
  }
 },
 "nbformat": 4,
 "nbformat_minor": 5
}
